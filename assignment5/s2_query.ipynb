{
 "cells": [
  {
   "cell_type": "code",
   "execution_count": 21,
   "metadata": {
    "tags": []
   },
   "outputs": [],
   "source": [
    "import pystac_client\n",
    "import numpy as np \n",
    "import matplotlib.pyplot as plt"
   ]
  },
  {
   "cell_type": "code",
   "execution_count": 22,
   "metadata": {
    "tags": [],
    "vscode": {
     "languageId": "plaintext"
    }
   },
   "outputs": [],
   "source": [
    "# Connect to the API\n",
    "from pystac_client import Client\n",
    "api_url = \"https://earth-search.aws.element84.com/v1\"\n",
    "client = Client.open(api_url)"
   ]
  },
  {
   "cell_type": "code",
   "execution_count": 23,
   "metadata": {
    "tags": []
   },
   "outputs": [
    {
     "name": "stdout",
     "output_type": "stream",
     "text": [
      "Sentinel-2 Pre-Collection 1 Level-2A \n",
      "Copernicus DEM GLO-30\n",
      "NAIP: National Agriculture Imagery Program\n",
      "Copernicus DEM GLO-90\n",
      "Landsat Collection 2 Level-2\n",
      "Sentinel-2 Level-2A\n",
      "Sentinel-2 Level-1C\n",
      "Sentinel-2 Collection 1 Level-2A\n",
      "Sentinel-1 Level-1C Ground Range Detected (GRD)\n"
     ]
    }
   ],
   "source": [
    "# print title of available collections\n",
    "collections = client.get_collections()\n",
    "for collection in collections:\n",
    "    print(collection.title)"
   ]
  },
  {
   "cell_type": "code",
   "execution_count": 24,
   "metadata": {
    "tags": []
   },
   "outputs": [],
   "source": [
    "# point of interest\n",
    "point = dict(type=\"Point\", coordinates=(-2.1334, 33.8663))"
   ]
  },
  {
   "cell_type": "code",
   "execution_count": 25,
   "metadata": {
    "tags": []
   },
   "outputs": [
    {
     "name": "stdout",
     "output_type": "stream",
     "text": [
      "3205620\n"
     ]
    }
   ],
   "source": [
    "#retrieves the number of scenes from sentinel-2-l2a collection that intersects with point, and acquired in date range\n",
    "search_results = client.search(\n",
    "    collections=[\"sentinel-2-l2a\"],\n",
    "    datetime=\"2024-01-01/2024-09-30\",\n",
    "    query=[\"s2:water_percentage\"]\n",
    ")\n",
    "\n",
    "print(search_results.matched())"
   ]
  },
  {
   "cell_type": "code",
   "execution_count": null,
   "metadata": {
    "tags": []
   },
   "outputs": [],
   "source": [
    "#list percent vegetation cover in each scene that meets search results\n",
    "vegetation_percents = []\n",
    "items = list(search_results.items())\n",
    "\n",
    "for item in items: \n",
    "    vegetation = item.properties.get('s2:vegetation_percentage')\n",
    "    vegetation_percents.append(vegetation)"
   ]
  },
  {
   "cell_type": "code",
   "execution_count": null,
   "metadata": {
    "tags": []
   },
   "outputs": [],
   "source": [
    "#plot histogram\n",
    "plt.hist(vegetation_percents, bins=5, edgecolor='black')\n",
    "\n",
    "#format histogram\n",
    "plt.xlabel('Vegetation Percentage')\n",
    "plt.ylabel('Frequency')\n",
    "plt.title('Percent Vegetation Cover Across All Scenes')\n",
    "plt.show()"
   ]
  },
  {
   "cell_type": "code",
   "execution_count": null,
   "metadata": {
    "tags": []
   },
   "outputs": [],
   "source": [
    "#Print ids of \n",
    "search_clouds = client.search(\n",
    "    collections=[\"sentinel-2-l2a\"],\n",
    "    intersects=point,\n",
    "    datetime=\"2024-01-01/2024-09-30\",\n",
    "    query=[\"eo:cloud_cover<5\",\"s2:water_percentage>25\"]\n",
    ")\n",
    "\n",
    "items2 = search_clouds.item_collection()\n",
    "\n",
    "if len(items2) > 0:\n",
    "    for item in items2:\n",
    "        print(item.id)\n",
    "else: \n",
    "    print('None Found')"
   ]
  }
 ],
 "metadata": {
  "kernelspec": {
   "display_name": "Python 3 (ipykernel)",
   "language": "python",
   "name": "python3"
  },
  "language_info": {
   "codemirror_mode": {
    "name": "ipython",
    "version": 3
   },
   "file_extension": ".py",
   "mimetype": "text/x-python",
   "name": "python",
   "nbconvert_exporter": "python",
   "pygments_lexer": "ipython3",
   "version": "3.8.20"
  }
 },
 "nbformat": 4,
 "nbformat_minor": 4
}
